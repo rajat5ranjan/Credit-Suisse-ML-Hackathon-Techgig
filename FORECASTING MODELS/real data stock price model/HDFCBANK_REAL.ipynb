{
 "cells": [
  {
   "cell_type": "code",
   "execution_count": 1,
   "metadata": {
    "collapsed": true
   },
   "outputs": [],
   "source": [
    "\n",
    "import pandas as pd\n",
    "import numpy as np\n",
    "import matplotlib.pyplot as plt\n",
    "import datetime"
   ]
  },
  {
   "cell_type": "code",
   "execution_count": 2,
   "metadata": {
    "collapsed": true
   },
   "outputs": [],
   "source": [
    "import quandl\n",
    "\n",
    "df = quandl.get(\"NSE/HDFCBANK\", start_date=\"2013-04-04\")\n"
   ]
  },
  {
   "cell_type": "code",
   "execution_count": 3,
   "metadata": {
    "collapsed": true
   },
   "outputs": [],
   "source": [
    "main_date=df.loc['2018-04-04']['Close']"
   ]
  },
  {
   "cell_type": "code",
   "execution_count": 4,
   "metadata": {},
   "outputs": [
    {
     "name": "stderr",
     "output_type": "stream",
     "text": [
      "C:\\Users\\Acer\\Anaconda3\\lib\\site-packages\\sklearn\\cross_validation.py:44: DeprecationWarning: This module was deprecated in version 0.18 in favor of the model_selection module into which all the refactored classes and functions are moved. Also note that the interface of the new CV iterators are different from that of this module. This module will be removed in 0.20.\n",
      "  \"This module will be removed in 0.20.\", DeprecationWarning)\n"
     ]
    }
   ],
   "source": [
    "from sklearn import preprocessing, cross_validation, svm\n",
    "from sklearn.linear_model import LinearRegression\n",
    "\n",
    "#Visualization\n",
    "import matplotlib \n",
    "import matplotlib.pyplot as plt\n",
    "%matplotlib inline"
   ]
  },
  {
   "cell_type": "code",
   "execution_count": 5,
   "metadata": {
    "collapsed": true
   },
   "outputs": [],
   "source": [
    "#Moving Average  \n",
    "def MA(df, n):  \n",
    "    name = 'SMA_' + str(n)\n",
    "    #MA = pd.Series(pd.rolling_mean(df['Close'], n), name = 'SMA_' + str(n))  \n",
    "    #df = df.join(MA)  \n",
    "    df[name]=pd.rolling_mean(df['Close'],n)\n",
    "    return df\n",
    "\n",
    "#Exponential Moving Average  \n",
    "def EMA(df, n):\n",
    "    name = 'EMA_' + str(n)\n",
    "    #MA = pd.Series(pd.rolling_mean(df['Close'], n), name = 'SMA_' + str(n))  \n",
    "    #df = df.join(MA)  \n",
    "    df[name]=pd.ewma(df['Close'], span = n, min_periods = n - 1)\n",
    "    return df"
   ]
  },
  {
   "cell_type": "code",
   "execution_count": 6,
   "metadata": {},
   "outputs": [
    {
     "name": "stderr",
     "output_type": "stream",
     "text": [
      "C:\\Users\\Acer\\Anaconda3\\lib\\site-packages\\ipykernel\\__main__.py:6: FutureWarning: pd.rolling_mean is deprecated for Series and will be removed in a future version, replace with \n",
      "\tSeries.rolling(window=30,center=False).mean()\n",
      "C:\\Users\\Acer\\Anaconda3\\lib\\site-packages\\ipykernel\\__main__.py:6: FutureWarning: pd.rolling_mean is deprecated for Series and will be removed in a future version, replace with \n",
      "\tSeries.rolling(window=40,center=False).mean()\n",
      "C:\\Users\\Acer\\Anaconda3\\lib\\site-packages\\ipykernel\\__main__.py:6: FutureWarning: pd.rolling_mean is deprecated for Series and will be removed in a future version, replace with \n",
      "\tSeries.rolling(window=50,center=False).mean()\n",
      "C:\\Users\\Acer\\Anaconda3\\lib\\site-packages\\ipykernel\\__main__.py:14: FutureWarning: pd.ewm_mean is deprecated for Series and will be removed in a future version, replace with \n",
      "\tSeries.ewm(span=30,min_periods=29,adjust=True,ignore_na=False).mean()\n",
      "C:\\Users\\Acer\\Anaconda3\\lib\\site-packages\\ipykernel\\__main__.py:14: FutureWarning: pd.ewm_mean is deprecated for Series and will be removed in a future version, replace with \n",
      "\tSeries.ewm(span=40,min_periods=39,adjust=True,ignore_na=False).mean()\n",
      "C:\\Users\\Acer\\Anaconda3\\lib\\site-packages\\ipykernel\\__main__.py:14: FutureWarning: pd.ewm_mean is deprecated for Series and will be removed in a future version, replace with \n",
      "\tSeries.ewm(span=50,min_periods=49,adjust=True,ignore_na=False).mean()\n"
     ]
    }
   ],
   "source": [
    "for i in [30,40,50]:\n",
    "    \n",
    "    MA(df,i)\n",
    "    \n",
    "for i in [30,40,50]:\n",
    "    \n",
    "    EMA(df,i)"
   ]
  },
  {
   "cell_type": "code",
   "execution_count": 7,
   "metadata": {},
   "outputs": [
    {
     "name": "stdout",
     "output_type": "stream",
     "text": [
      "['2013-04-04T00:00:00.000000000' '2013-04-05T00:00:00.000000000'\n",
      " '2013-04-08T00:00:00.000000000' ..., '2018-04-16T00:00:00.000000000'\n",
      " '2018-04-17T00:00:00.000000000' '2018-04-18T00:00:00.000000000']\n"
     ]
    },
    {
     "data": {
      "text/plain": [
       "Close                   0\n",
       "HL_PCT                  0\n",
       "PCT_CHNG                0\n",
       "Total Trade Quantity    0\n",
       "SMA_30                  0\n",
       "SMA_40                  0\n",
       "SMA_50                  0\n",
       "EMA_30                  0\n",
       "EMA_40                  0\n",
       "EMA_50                  0\n",
       "dtype: int64"
      ]
     },
     "execution_count": 7,
     "metadata": {},
     "output_type": "execute_result"
    }
   ],
   "source": [
    "#Make array of dates\n",
    "#Last 30 dates will be used for forecasting.\n",
    "# dates = np.array(df[\"Date\"])\n",
    "# dates_check = dates[-30:]\n",
    "# dates = dates[:-30]\n",
    "\n",
    "dates = np.array(df.index.values)\n",
    "print(dates)\n",
    "dates_check = dates[-30:]\n",
    "dates = dates[:-30]\n",
    "\n",
    "\n",
    "\n",
    "# define a new feature, HL_PCT\n",
    "df['HL_PCT'] = (df['High'] - df['Low'])/(df['Low']*100)\n",
    "\n",
    "# define a new feature percentage change\n",
    "df['PCT_CHNG'] = (df['Close'] - df['Open'])/(df['Open']*100)\n",
    "\n",
    "df = df[['Close', 'HL_PCT', 'PCT_CHNG', 'Total Trade Quantity','SMA_30', 'SMA_40', 'SMA_50', 'EMA_30', 'EMA_40', 'EMA_50']]\n",
    "\n",
    "\n",
    "df.fillna( value=0, inplace=True)\n",
    "df.isnull().sum()"
   ]
  },
  {
   "cell_type": "code",
   "execution_count": 8,
   "metadata": {
    "collapsed": true
   },
   "outputs": [],
   "source": [
    "forecast_out = int(30) # predicting 30 days into future\n",
    "df['Prediction'] = df[['Close']].shift(-forecast_out) #  label column with data shifted 30 units \n",
    "X = np.array(df.drop(['Prediction'], 1))\n",
    "X = preprocessing.scale(X)\n",
    "X_forecast = X[-forecast_out:] # set X_forecast equal to last 30\n",
    "X = X[:-forecast_out] # remove last 30 from X\n",
    "y = np.array(df['Prediction'])\n",
    "y = y[:-forecast_out]"
   ]
  },
  {
   "cell_type": "code",
   "execution_count": 9,
   "metadata": {
    "collapsed": true
   },
   "outputs": [],
   "source": [
    "X_train, X_test, y_train, y_test = cross_validation.train_test_split(X, y, test_size = 0.2)"
   ]
  },
  {
   "cell_type": "code",
   "execution_count": 10,
   "metadata": {},
   "outputs": [
    {
     "name": "stdout",
     "output_type": "stream",
     "text": [
      "confidence:  0.997828036091\n"
     ]
    }
   ],
   "source": [
    "# Training\n",
    "from sklearn.ensemble import RandomForestRegressor\n",
    "clf = RandomForestRegressor()\n",
    "clf.fit(X_train,y_train)\n",
    "# Testing\n",
    "confidence = clf.score(X_test, y_test)\n",
    "print(\"confidence: \", confidence)"
   ]
  },
  {
   "cell_type": "code",
   "execution_count": 11,
   "metadata": {},
   "outputs": [
    {
     "name": "stdout",
     "output_type": "stream",
     "text": [
      "[ 1898.35   1890.98   1889.675  1906.57   1885.865  1886.79   1912.155\n",
      "  1885.45   1882.07   1878.72   1909.87   1878.505  1879.175  1890.865\n",
      "  1886.24   1873.265  1879.07   1882.355  1886.22   1900.915  1874.485\n",
      "  1893.17   1900.3    1872.755  1881.95   1869.09   1889.545  1905.735\n",
      "  1886.825  1875.65 ]\n"
     ]
    }
   ],
   "source": [
    "forecast_prediction = clf.predict(X_forecast)\n",
    "print(forecast_prediction)"
   ]
  },
  {
   "cell_type": "code",
   "execution_count": 12,
   "metadata": {},
   "outputs": [
    {
     "name": "stdout",
     "output_type": "stream",
     "text": [
      "<class 'pandas.core.frame.DataFrame'>\n",
      "DatetimeIndex: 1245 entries, 2013-04-04 to 2018-04-18\n",
      "Data columns (total 2 columns):\n",
      "ClosePrice    1215 non-null float64\n",
      "Forecast      30 non-null float64\n",
      "dtypes: float64(2)\n",
      "memory usage: 29.2 KB\n"
     ]
    }
   ],
   "source": [
    "#Make the final DataFrame containing Dates, ClosePrices, and Forecast values\n",
    "actual = pd.DataFrame(dates, columns = [\"Date\"])\n",
    "actual.set_index(\"Date\", inplace = True)\n",
    "actual[\"ClosePrice\"] = df[\"Close\"]\n",
    "actual\n",
    "actual[\"Forecast\"] = np.nan\n",
    "# actual.set_index(\"Date\", inplace = True)\n",
    "forecast = pd.DataFrame(dates_check, columns=[\"Date\"])\n",
    "forecast[\"Forecast\"] = forecast_prediction\n",
    "forecast[\"ClosePrice\"] = np.nan\n",
    "forecast.set_index(\"Date\", inplace = True)\n",
    "var = [actual, forecast]\n",
    "result = pd.concat(var)  #This is the final DataFrame\n",
    "result.info()"
   ]
  },
  {
   "cell_type": "code",
   "execution_count": 13,
   "metadata": {},
   "outputs": [
    {
     "data": {
      "text/plain": [
       "<matplotlib.text.Text at 0x201f7a886d8>"
      ]
     },
     "execution_count": 13,
     "metadata": {},
     "output_type": "execute_result"
    },
    {
     "data": {
      "image/png": "[encoded data removed]",
      "text/plain": [
       "<matplotlib.figure.Figure at 0x201f76bc4a8>"
      ]
     },
     "metadata": {},
     "output_type": "display_data"
    }
   ],
   "source": [
    "#Plot the results\n",
    "result.plot(figsize=(20,10), linewidth=1.5)\n",
    "plt.legend(loc=2, prop={'size':20})\n",
    "plt.xlabel('Date')\n",
    "plt.ylabel('Price')"
   ]
  },
  {
   "cell_type": "code",
   "execution_count": 14,
   "metadata": {},
   "outputs": [
    {
     "data": {
      "text/plain": [
       "-0.40355767954333777"
      ]
     },
     "execution_count": 14,
     "metadata": {},
     "output_type": "execute_result"
    }
   ],
   "source": [
    "a=result['ClosePrice'].iloc[-31]\n",
    "b=result['Forecast'].iloc[-1]\n",
    "ret=((b-main_date)/main_date)*100\n",
    "ret"
   ]
  },
  {
   "cell_type": "code",
   "execution_count": 15,
   "metadata": {},
   "outputs": [
    {
     "data": {
      "text/html": [
       "<div>\n",
       "<table border=\"1\" class=\"dataframe\">\n",
       "  <thead>\n",
       "    <tr style=\"text-align: right;\">\n",
       "      <th></th>\n",
       "      <th>Date</th>\n",
       "      <th>Symbol</th>\n",
       "      <th>Return</th>\n",
       "    </tr>\n",
       "  </thead>\n",
       "  <tbody>\n",
       "    <tr>\n",
       "      <th>0</th>\n",
       "      <td>20180516</td>\n",
       "      <td>TCS.NS</td>\n",
       "      <td>13.03</td>\n",
       "    </tr>\n",
       "    <tr>\n",
       "      <th>1</th>\n",
       "      <td>20180516</td>\n",
       "      <td>WIPRO.NS</td>\n",
       "      <td>0.10</td>\n",
       "    </tr>\n",
       "    <tr>\n",
       "      <th>2</th>\n",
       "      <td>20180516</td>\n",
       "      <td>AXISBANK.NS</td>\n",
       "      <td>0.58</td>\n",
       "    </tr>\n",
       "    <tr>\n",
       "      <th>3</th>\n",
       "      <td>20180516</td>\n",
       "      <td>HCLTECH.NS</td>\n",
       "      <td>-3.34</td>\n",
       "    </tr>\n",
       "    <tr>\n",
       "      <th>4</th>\n",
       "      <td>20180516</td>\n",
       "      <td>HDFCBANK.NS</td>\n",
       "      <td>3.03</td>\n",
       "    </tr>\n",
       "    <tr>\n",
       "      <th>5</th>\n",
       "      <td>20180516</td>\n",
       "      <td>ICICIBANK.NS</td>\n",
       "      <td>0.10</td>\n",
       "    </tr>\n",
       "    <tr>\n",
       "      <th>6</th>\n",
       "      <td>20180516</td>\n",
       "      <td>INDUSINDBK.NS</td>\n",
       "      <td>-7.90</td>\n",
       "    </tr>\n",
       "    <tr>\n",
       "      <th>7</th>\n",
       "      <td>20180516</td>\n",
       "      <td>INFY.NS</td>\n",
       "      <td>6.00</td>\n",
       "    </tr>\n",
       "    <tr>\n",
       "      <th>8</th>\n",
       "      <td>20180516</td>\n",
       "      <td>KOTAKBANK.NS</td>\n",
       "      <td>3.03</td>\n",
       "    </tr>\n",
       "    <tr>\n",
       "      <th>9</th>\n",
       "      <td>20180516</td>\n",
       "      <td>SBIN.NS</td>\n",
       "      <td>0.10</td>\n",
       "    </tr>\n",
       "    <tr>\n",
       "      <th>10</th>\n",
       "      <td>20180516</td>\n",
       "      <td>YESBANK.NS</td>\n",
       "      <td>-2.90</td>\n",
       "    </tr>\n",
       "    <tr>\n",
       "      <th>11</th>\n",
       "      <td>20180516</td>\n",
       "      <td>TECHM.NS</td>\n",
       "      <td>5.00</td>\n",
       "    </tr>\n",
       "  </tbody>\n",
       "</table>\n",
       "</div>"
      ],
      "text/plain": [
       "        Date         Symbol  Return\n",
       "0   20180516         TCS.NS   13.03\n",
       "1   20180516       WIPRO.NS    0.10\n",
       "2   20180516    AXISBANK.NS    0.58\n",
       "3   20180516     HCLTECH.NS   -3.34\n",
       "4   20180516    HDFCBANK.NS    3.03\n",
       "5   20180516   ICICIBANK.NS    0.10\n",
       "6   20180516  INDUSINDBK.NS   -7.90\n",
       "7   20180516        INFY.NS    6.00\n",
       "8   20180516   KOTAKBANK.NS    3.03\n",
       "9   20180516        SBIN.NS    0.10\n",
       "10  20180516     YESBANK.NS   -2.90\n",
       "11  20180516       TECHM.NS    5.00"
      ]
     },
     "execution_count": 15,
     "metadata": {},
     "output_type": "execute_result"
    }
   ],
   "source": [
    "sub=pd.read_csv('submission.csv')\n",
    "sub"
   ]
  },
  {
   "cell_type": "code",
   "execution_count": 16,
   "metadata": {
    "collapsed": true
   },
   "outputs": [],
   "source": [
    "sub=pd.read_csv('submission.csv')\n",
    "sub.iloc[2,2]\n",
    "for i in range(12):\n",
    "    if sub.loc[i]['Symbol']=='HDFCBANK.NS':\n",
    "        sub.iloc[i,2]=\"{0:.2f}\".format(ret)\n"
   ]
  },
  {
   "cell_type": "code",
   "execution_count": 17,
   "metadata": {},
   "outputs": [
    {
     "data": {
      "text/html": [
       "<div>\n",
       "<table border=\"1\" class=\"dataframe\">\n",
       "  <thead>\n",
       "    <tr style=\"text-align: right;\">\n",
       "      <th></th>\n",
       "      <th>Date</th>\n",
       "      <th>Symbol</th>\n",
       "      <th>Return</th>\n",
       "    </tr>\n",
       "  </thead>\n",
       "  <tbody>\n",
       "    <tr>\n",
       "      <th>0</th>\n",
       "      <td>20180516</td>\n",
       "      <td>TCS.NS</td>\n",
       "      <td>13.03</td>\n",
       "    </tr>\n",
       "    <tr>\n",
       "      <th>1</th>\n",
       "      <td>20180516</td>\n",
       "      <td>WIPRO.NS</td>\n",
       "      <td>0.1</td>\n",
       "    </tr>\n",
       "    <tr>\n",
       "      <th>2</th>\n",
       "      <td>20180516</td>\n",
       "      <td>AXISBANK.NS</td>\n",
       "      <td>0.58</td>\n",
       "    </tr>\n",
       "    <tr>\n",
       "      <th>3</th>\n",
       "      <td>20180516</td>\n",
       "      <td>HCLTECH.NS</td>\n",
       "      <td>-3.34</td>\n",
       "    </tr>\n",
       "    <tr>\n",
       "      <th>4</th>\n",
       "      <td>20180516</td>\n",
       "      <td>HDFCBANK.NS</td>\n",
       "      <td>-0.40</td>\n",
       "    </tr>\n",
       "    <tr>\n",
       "      <th>5</th>\n",
       "      <td>20180516</td>\n",
       "      <td>ICICIBANK.NS</td>\n",
       "      <td>0.1</td>\n",
       "    </tr>\n",
       "    <tr>\n",
       "      <th>6</th>\n",
       "      <td>20180516</td>\n",
       "      <td>INDUSINDBK.NS</td>\n",
       "      <td>-7.9</td>\n",
       "    </tr>\n",
       "    <tr>\n",
       "      <th>7</th>\n",
       "      <td>20180516</td>\n",
       "      <td>INFY.NS</td>\n",
       "      <td>6</td>\n",
       "    </tr>\n",
       "    <tr>\n",
       "      <th>8</th>\n",
       "      <td>20180516</td>\n",
       "      <td>KOTAKBANK.NS</td>\n",
       "      <td>3.03</td>\n",
       "    </tr>\n",
       "    <tr>\n",
       "      <th>9</th>\n",
       "      <td>20180516</td>\n",
       "      <td>SBIN.NS</td>\n",
       "      <td>0.1</td>\n",
       "    </tr>\n",
       "    <tr>\n",
       "      <th>10</th>\n",
       "      <td>20180516</td>\n",
       "      <td>YESBANK.NS</td>\n",
       "      <td>-2.9</td>\n",
       "    </tr>\n",
       "    <tr>\n",
       "      <th>11</th>\n",
       "      <td>20180516</td>\n",
       "      <td>TECHM.NS</td>\n",
       "      <td>5</td>\n",
       "    </tr>\n",
       "  </tbody>\n",
       "</table>\n",
       "</div>"
      ],
      "text/plain": [
       "        Date         Symbol Return\n",
       "0   20180516         TCS.NS  13.03\n",
       "1   20180516       WIPRO.NS    0.1\n",
       "2   20180516    AXISBANK.NS   0.58\n",
       "3   20180516     HCLTECH.NS  -3.34\n",
       "4   20180516    HDFCBANK.NS  -0.40\n",
       "5   20180516   ICICIBANK.NS    0.1\n",
       "6   20180516  INDUSINDBK.NS   -7.9\n",
       "7   20180516        INFY.NS      6\n",
       "8   20180516   KOTAKBANK.NS   3.03\n",
       "9   20180516        SBIN.NS    0.1\n",
       "10  20180516     YESBANK.NS   -2.9\n",
       "11  20180516       TECHM.NS      5"
      ]
     },
     "execution_count": 17,
     "metadata": {},
     "output_type": "execute_result"
    }
   ],
   "source": [
    "sub.to_csv('submission.csv',index=False)\n",
    "sub"
   ]
  },
  {
   "cell_type": "code",
   "execution_count": null,
   "metadata": {
    "collapsed": true
   },
   "outputs": [],
   "source": []
  }
 ],
 "metadata": {
  "kernelspec": {
   "display_name": "Python 3",
   "language": "python",
   "name": "python3"
  },
  "language_info": {
   "codemirror_mode": {
    "name": "ipython",
    "version": 3
   },
   "file_extension": ".py",
   "mimetype": "text/x-python",
   "name": "python",
   "nbconvert_exporter": "python",
   "pygments_lexer": "ipython3",
   "version": "3.6.0"
  }
 },
 "nbformat": 4,
 "nbformat_minor": 2
}
